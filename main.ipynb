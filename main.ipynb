{
 "cells": [
  {
   "cell_type": "code",
   "execution_count": 3,
   "metadata": {},
   "outputs": [],
   "source": [
    "import tensorflow as tf\n",
    "from tensorflow.keras import datasets, layers, models, Sequential, preprocessing\n",
    "import numpy as np"
   ]
  },
  {
   "cell_type": "code",
   "execution_count": 7,
   "metadata": {},
   "outputs": [
    {
     "name": "stdout",
     "output_type": "stream",
     "text": [
      "Found 8005 files belonging to 2 classes.\n",
      "Using 7205 files for training.\n",
      "Found 8005 files belonging to 2 classes.\n",
      "Using 800 files for validation.\n"
     ]
    }
   ],
   "source": [
    "directory = 'meow-woof'\n",
    "dfTrain = tf.keras.preprocessing.image_dataset_from_directory(\n",
    "    directory,\n",
    "    labels=\"inferred\",\n",
    "    label_mode=\"categorical\",\n",
    "    class_names=None,\n",
    "    color_mode=\"rgb\",\n",
    "    batch_size=1000,\n",
    "    image_size=(50, 50),\n",
    "    shuffle=True,\n",
    "    seed=123,\n",
    "    validation_split=0.1,\n",
    "    subset= \"training\",\n",
    "    interpolation=\"bilinear\"\n",
    ")\n",
    "\n",
    "dfTest = tf.keras.preprocessing.image_dataset_from_directory(\n",
    "    directory,\n",
    "    labels=\"inferred\",\n",
    "    label_mode=\"categorical\",\n",
    "    class_names=None,\n",
    "    color_mode=\"rgb\",\n",
    "    batch_size=1000,\n",
    "    image_size=(50, 50),\n",
    "    shuffle=True,\n",
    "    seed=123,\n",
    "    validation_split=0.1,\n",
    "    subset= \"validation\",\n",
    "    interpolation=\"bilinear\"\n",
    ")\n"
   ]
  },
  {
   "cell_type": "code",
   "execution_count": 10,
   "metadata": {},
   "outputs": [
    {
     "name": "stdout",
     "output_type": "stream",
     "text": [
      "Epoch 1/50\n",
      "8/8 [==============================] - 9s 837ms/step - loss: 1.0643 - accuracy: 0.5432\n",
      "Epoch 2/50\n",
      "8/8 [==============================] - 9s 860ms/step - loss: 0.6695 - accuracy: 0.6185\n",
      "Epoch 3/50\n",
      "8/8 [==============================] - 9s 824ms/step - loss: 0.6233 - accuracy: 0.6615\n",
      "Epoch 4/50\n",
      "8/8 [==============================] - 9s 858ms/step - loss: 0.5822 - accuracy: 0.6963\n",
      "Epoch 5/50\n",
      "8/8 [==============================] - 9s 852ms/step - loss: 0.5399 - accuracy: 0.7270\n",
      "Epoch 6/50\n",
      "8/8 [==============================] - 9s 874ms/step - loss: 0.5014 - accuracy: 0.7531\n",
      "Epoch 7/50\n",
      "8/8 [==============================] - 10s 887ms/step - loss: 0.4650 - accuracy: 0.7742\n",
      "Epoch 8/50\n",
      "8/8 [==============================] - 9s 888ms/step - loss: 0.4141 - accuracy: 0.8137\n",
      "Epoch 9/50\n",
      "8/8 [==============================] - 10s 893ms/step - loss: 0.3736 - accuracy: 0.8341\n",
      "Epoch 10/50\n",
      "8/8 [==============================] - 10s 905ms/step - loss: 0.3273 - accuracy: 0.8598\n",
      "Epoch 11/50\n",
      "8/8 [==============================] - 10s 902ms/step - loss: 0.2806 - accuracy: 0.8856\n",
      "Epoch 12/50\n",
      "8/8 [==============================] - 10s 976ms/step - loss: 0.2414 - accuracy: 0.9010\n",
      "Epoch 13/50\n",
      "8/8 [==============================] - 10s 962ms/step - loss: 0.1989 - accuracy: 0.9232\n",
      "Epoch 14/50\n",
      "8/8 [==============================] - 10s 987ms/step - loss: 0.1600 - accuracy: 0.9388\n",
      "Epoch 15/50\n",
      "8/8 [==============================] - 10s 996ms/step - loss: 0.1304 - accuracy: 0.9509\n",
      "Epoch 16/50\n",
      "8/8 [==============================] - 10s 945ms/step - loss: 0.1000 - accuracy: 0.9656\n",
      "Epoch 17/50\n",
      "8/8 [==============================] - 10s 934ms/step - loss: 0.0736 - accuracy: 0.9779\n",
      "Epoch 18/50\n",
      "8/8 [==============================] - 10s 947ms/step - loss: 0.0570 - accuracy: 0.9831\n",
      "Epoch 19/50\n",
      "8/8 [==============================] - 11s 1s/step - loss: 0.0503 - accuracy: 0.9845\n",
      "Epoch 20/50\n",
      "8/8 [==============================] - 11s 1s/step - loss: 0.0366 - accuracy: 0.9914\n",
      "Epoch 21/50\n",
      "8/8 [==============================] - 11s 1s/step - loss: 0.0418 - accuracy: 0.9865\n",
      "Epoch 22/50\n",
      "8/8 [==============================] - 12s 1s/step - loss: 0.0411 - accuracy: 0.9874\n",
      "Epoch 23/50\n",
      "8/8 [==============================] - 12s 1s/step - loss: 0.0386 - accuracy: 0.9879\n",
      "Epoch 24/50\n",
      "8/8 [==============================] - 12s 1s/step - loss: 0.0316 - accuracy: 0.9900\n",
      "Epoch 25/50\n",
      "8/8 [==============================] - 13s 1s/step - loss: 0.0300 - accuracy: 0.9907\n",
      "Epoch 26/50\n",
      "8/8 [==============================] - 14s 1s/step - loss: 0.0300 - accuracy: 0.9899\n",
      "Epoch 27/50\n",
      "8/8 [==============================] - 17s 2s/step - loss: 0.0264 - accuracy: 0.9908\n",
      "Epoch 28/50\n",
      "8/8 [==============================] - 18s 2s/step - loss: 0.0294 - accuracy: 0.9907\n",
      "Epoch 29/50\n",
      "8/8 [==============================] - 21s 2s/step - loss: 0.0228 - accuracy: 0.9929\n",
      "Epoch 30/50\n",
      "8/8 [==============================] - 21s 2s/step - loss: 0.0223 - accuracy: 0.9926\n",
      "Epoch 31/50\n",
      "8/8 [==============================] - 16s 1s/step - loss: 0.0196 - accuracy: 0.9942\n",
      "Epoch 32/50\n",
      "8/8 [==============================] - 15s 1s/step - loss: 0.0140 - accuracy: 0.9965\n",
      "Epoch 33/50\n",
      "8/8 [==============================] - 13s 1s/step - loss: 0.0146 - accuracy: 0.9950\n",
      "Epoch 34/50\n",
      "8/8 [==============================] - 13s 1s/step - loss: 0.0114 - accuracy: 0.9969\n",
      "Epoch 35/50\n",
      "8/8 [==============================] - 13s 1s/step - loss: 0.0121 - accuracy: 0.9957\n",
      "Epoch 36/50\n",
      "8/8 [==============================] - 12s 1s/step - loss: 0.0092 - accuracy: 0.9972\n",
      "Epoch 37/50\n",
      "8/8 [==============================] - 12s 1s/step - loss: 0.0143 - accuracy: 0.9951\n",
      "Epoch 38/50\n",
      "8/8 [==============================] - 12s 1s/step - loss: 0.0119 - accuracy: 0.9960\n",
      "Epoch 39/50\n",
      "8/8 [==============================] - 12s 1s/step - loss: 0.0206 - accuracy: 0.9928\n",
      "Epoch 40/50\n",
      "8/8 [==============================] - 13s 1s/step - loss: 0.0236 - accuracy: 0.9926\n",
      "Epoch 41/50\n",
      "8/8 [==============================] - 12s 1s/step - loss: 0.0384 - accuracy: 0.9864\n",
      "Epoch 42/50\n",
      "8/8 [==============================] - 12s 1s/step - loss: 0.0305 - accuracy: 0.9892\n",
      "Epoch 43/50\n",
      "8/8 [==============================] - 12s 1s/step - loss: 0.0320 - accuracy: 0.9893\n",
      "Epoch 44/50\n",
      "8/8 [==============================] - 12s 1s/step - loss: 0.0250 - accuracy: 0.9920\n",
      "Epoch 45/50\n",
      "8/8 [==============================] - 12s 1s/step - loss: 0.0244 - accuracy: 0.9911\n",
      "Epoch 46/50\n",
      "8/8 [==============================] - 12s 1s/step - loss: 0.0156 - accuracy: 0.9961\n",
      "Epoch 47/50\n",
      "8/8 [==============================] - 12s 1s/step - loss: 0.0120 - accuracy: 0.9964\n",
      "Epoch 48/50\n",
      "8/8 [==============================] - 12s 1s/step - loss: 0.0084 - accuracy: 0.9981\n",
      "Epoch 49/50\n",
      "8/8 [==============================] - 12s 1s/step - loss: 0.0082 - accuracy: 0.9972\n",
      "Epoch 50/50\n",
      "8/8 [==============================] - 13s 1s/step - loss: 0.0063 - accuracy: 0.9981\n"
     ]
    },
    {
     "data": {
      "text/plain": [
       "<keras.callbacks.History at 0x11b004ca0>"
      ]
     },
     "execution_count": 10,
     "metadata": {},
     "output_type": "execute_result"
    }
   ],
   "source": [
    "cnn = Sequential()\n",
    "cnn.add(layers.Conv2D(32,kernel_size=(3,3),padding='valid',activation='relu',input_shape=(50,50,3)))\n",
    "cnn.add(layers.BatchNormalization())\n",
    "cnn.add(layers.MaxPooling2D(pool_size=(2,2),strides=2,padding='valid'))\n",
    "\n",
    "cnn.add(layers.Conv2D(64,kernel_size=(3,3),padding='valid',activation='relu'))\n",
    "cnn.add(layers.BatchNormalization())\n",
    "cnn.add(layers.MaxPooling2D(pool_size=(2,2),strides=2,padding='valid'))\n",
    "\n",
    "cnn.add(layers.Conv2D(128,kernel_size=(3,3),padding='valid',activation='relu'))\n",
    "cnn.add(layers.BatchNormalization())\n",
    "cnn.add(layers.MaxPooling2D(pool_size=(2,2),strides=2,padding='valid'))\n",
    "\n",
    "cnn.add(layers.Flatten())\n",
    "\n",
    "cnn.add(layers.Dense(128,activation='relu'))\n",
    "cnn.add(layers.Dropout(0.1))\n",
    "cnn.add(layers.Dense(64,activation='relu'))\n",
    "cnn.add(layers.Dropout(0.1))\n",
    "cnn.add(layers.Dense(2,activation='softmax'))\n",
    "\n",
    "cnn.compile(optimizer = 'adam',\n",
    "             loss = \"categorical_crossentropy\",\n",
    "              metrics = [\"accuracy\"])\n",
    "\n",
    "cnn.fit(dfTrain,epochs=50)"
   ]
  },
  {
   "cell_type": "code",
   "execution_count": 11,
   "metadata": {},
   "outputs": [
    {
     "name": "stdout",
     "output_type": "stream",
     "text": [
      "1/1 [==============================] - 1s 526ms/step - loss: 1.4327 - accuracy: 0.7575\n"
     ]
    },
    {
     "data": {
      "text/plain": [
       "[1.432702898979187, 0.7574999928474426]"
      ]
     },
     "execution_count": 11,
     "metadata": {},
     "output_type": "execute_result"
    }
   ],
   "source": [
    "cnn.evaluate(dfTest)"
   ]
  }
 ],
 "metadata": {
  "kernelspec": {
   "display_name": "tf-env",
   "language": "python",
   "name": "python3"
  },
  "language_info": {
   "codemirror_mode": {
    "name": "ipython",
    "version": 3
   },
   "file_extension": ".py",
   "mimetype": "text/x-python",
   "name": "python",
   "nbconvert_exporter": "python",
   "pygments_lexer": "ipython3",
   "version": "3.10.8"
  },
  "orig_nbformat": 4
 },
 "nbformat": 4,
 "nbformat_minor": 2
}
